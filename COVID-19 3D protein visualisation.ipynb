{
 "cells": [
  {
   "cell_type": "code",
   "execution_count": 1,
   "id": "dc156616-fd26-436b-9331-232de1ea005a",
   "metadata": {},
   "outputs": [],
   "source": [
    "seq_id=\"PBD|6YYT|A\""
   ]
  },
  {
   "cell_type": "code",
   "execution_count": 2,
   "id": "70a91f6c-90b5-4240-85e3-caa5ccb8c744",
   "metadata": {},
   "outputs": [],
   "source": [
    "id=seq_id.split(\"|\")[1]"
   ]
  },
  {
   "cell_type": "code",
   "execution_count": 3,
   "id": "4807f256-34d9-45b3-be12-10208b7c4996",
   "metadata": {},
   "outputs": [
    {
     "data": {
      "text/plain": [
       "'6YYT'"
      ]
     },
     "execution_count": 3,
     "metadata": {},
     "output_type": "execute_result"
    }
   ],
   "source": [
    "id"
   ]
  },
  {
   "cell_type": "code",
   "execution_count": 4,
   "id": "cdf7dacf-73b9-40ba-86cd-ee775a38b88d",
   "metadata": {},
   "outputs": [
    {
     "name": "stderr",
     "output_type": "stream",
     "text": [
      "--2025-02-23 12:15:32--  https://files.rcsb.org/download/6YYT.pdb\n",
      "Resolving files.rcsb.org (files.rcsb.org)... 108.158.20.115, 108.158.20.7, 108.158.20.34, ...\n",
      "Connecting to files.rcsb.org (files.rcsb.org)|108.158.20.115|:443... connected.\n",
      "HTTP request sent, awaiting response... 200 OK\n",
      "Length: unspecified [application/octet-stream]\n",
      "Saving to: '6YYT.pdb.8'\n",
      "\n",
      "     0K .......... .......... .......... .......... .......... 89.3K\n",
      "    50K .......... .......... .......... .......... ..........  211K\n",
      "   100K .......... .......... .......... .......... ..........  335K\n",
      "   150K .......... .......... .......... .......... ..........  148K\n",
      "   200K .......... .......... .......... .......... ..........  313K\n",
      "   250K .......... .......... .......... .......... ..........  103K\n",
      "   300K .......... .......... .......... .......... ..........  305K\n",
      "   350K .......... .......... .......... .......... .......... 90.7K\n",
      "   400K .......... .......... .......... .......... .......... 5.54M\n",
      "   450K .......... .......... .......... .......... ..........  157K\n",
      "   500K .......... .......... .......... .......... ..........  119K\n",
      "   550K .......... .......... .......... .......... ..........  236K\n",
      "   600K .......... .......... .......... .......... ..........  370K\n",
      "   650K .......... .......... .......... .......... ..........  204K\n",
      "   700K .......... .......... .......... .......... ..........  193K\n",
      "   750K .......... .......... .......... .......... ..........  159K\n",
      "   800K .......... .......... .......... .......... ..........  276K\n",
      "   850K .......... .......... .......... .......... ..........  259K\n",
      "   900K .......... .......... .......... .......... ..........  172K\n",
      "   950K ....                                                   34.5M=5.2s\n",
      "\n",
      "2025-02-23 12:15:39 (183 KB/s) - '6YYT.pdb.8' saved [977913]\n",
      "\n"
     ]
    }
   ],
   "source": [
    "!wget https://files.rcsb.org/download/6YYT.pdb"
   ]
  },
  {
   "cell_type": "code",
   "execution_count": 5,
   "id": "245dde3f-02f5-4570-a878-4871eae1fa55",
   "metadata": {},
   "outputs": [],
   "source": [
    "from Bio.PDB import PDBParser"
   ]
  },
  {
   "cell_type": "code",
   "execution_count": 6,
   "id": "9b12b845-2e5e-40d9-bc03-658c8893541d",
   "metadata": {},
   "outputs": [],
   "source": [
    "parser=PDBParser()"
   ]
  },
  {
   "cell_type": "code",
   "execution_count": 7,
   "id": "6c7fb389-4bd3-42fb-a899-899e1c331a5d",
   "metadata": {},
   "outputs": [
    {
     "name": "stderr",
     "output_type": "stream",
     "text": [
      "C:\\Users\\Nasir\\anaconda3\\Lib\\site-packages\\Bio\\PDB\\StructureBuilder.py:100: PDBConstructionWarning: WARNING: Chain A is discontinuous at line 12060.\n",
      "  warnings.warn(\n"
     ]
    }
   ],
   "source": [
    "structure=parser.get_structure('6YYT','6YYT.pdb')"
   ]
  },
  {
   "cell_type": "code",
   "execution_count": 8,
   "id": "5bab938a-b31b-4b87-ab61-a1d5fee32a72",
   "metadata": {},
   "outputs": [
    {
     "data": {
      "text/plain": [
       "<Structure id=6YYT>"
      ]
     },
     "execution_count": 8,
     "metadata": {},
     "output_type": "execute_result"
    }
   ],
   "source": [
    "structure"
   ]
  },
  {
   "cell_type": "code",
   "execution_count": 9,
   "id": "62ca32bb-bf5a-4296-b350-602a09732085",
   "metadata": {},
   "outputs": [
    {
     "name": "stdout",
     "output_type": "stream",
     "text": [
      "chain_id: A\n",
      "chain_id: B\n",
      "chain_id: C\n",
      "chain_id: D\n",
      "chain_id: P\n",
      "chain_id: Q\n",
      "chain_id: T\n",
      "chain_id: U\n"
     ]
    }
   ],
   "source": [
    "for chain in structure[0]:\n",
    "    print(f\"chain_id: {chain.id}\")"
   ]
  },
  {
   "cell_type": "code",
   "execution_count": 11,
   "id": "f1ac5d24-399d-4340-a716-4a37719809bc",
   "metadata": {},
   "outputs": [
    {
     "data": {
      "application/vnd.jupyter.widget-view+json": {
       "model_id": "d123af8dee32453b8dcafacede0a9e90",
       "version_major": 2,
       "version_minor": 0
      },
      "text/plain": [
       "NGLWidget()"
      ]
     },
     "metadata": {},
     "output_type": "display_data"
    }
   ],
   "source": [
    "import nglview as nv\n",
    "nv.show_biopython(structure,gui=True)"
   ]
  },
  {
   "cell_type": "code",
   "execution_count": null,
   "id": "18a09f7f-f6b8-4552-9bba-f312b1832cfa",
   "metadata": {},
   "outputs": [],
   "source": []
  }
 ],
 "metadata": {
  "kernelspec": {
   "display_name": "Python 3 (ipykernel)",
   "language": "python",
   "name": "python3"
  },
  "language_info": {
   "codemirror_mode": {
    "name": "ipython",
    "version": 3
   },
   "file_extension": ".py",
   "mimetype": "text/x-python",
   "name": "python",
   "nbconvert_exporter": "python",
   "pygments_lexer": "ipython3",
   "version": "3.11.7"
  }
 },
 "nbformat": 4,
 "nbformat_minor": 5
}
